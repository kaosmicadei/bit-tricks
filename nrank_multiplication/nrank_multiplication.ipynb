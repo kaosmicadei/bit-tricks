{
 "cells": [
  {
   "cell_type": "code",
   "execution_count": 1,
   "metadata": {},
   "outputs": [
    {
     "name": "stderr",
     "output_type": "stream",
     "text": [
      "\u001b[32m\u001b[1m  Activating\u001b[22m\u001b[39m project at `~/Dev/learning/bit-tricks/nrank_multiplication/NRankMul`\n"
     ]
    }
   ],
   "source": [
    "using Pkg\n",
    "Pkg.activate(\"./NRankMul\")\n",
    "using NRankMul\n",
    "using Test"
   ]
  },
  {
   "cell_type": "markdown",
   "metadata": {},
   "source": [
    "$$\n",
    "\\boldsymbol{x}^\\intercal = \n",
    "\\begin{pmatrix}\n",
    "x_{000} &\n",
    "x_{010} &\n",
    "x_{001} &\n",
    "x_{011} &\n",
    "x_{100} &\n",
    "x_{110} &\n",
    "x_{101} &\n",
    "x_{111} \n",
    "\\end{pmatrix}\n",
    "$$\n"
   ]
  },
  {
   "cell_type": "markdown",
   "metadata": {},
   "source": [
    "\n",
    "$$\n",
    "\\boldsymbol{M} \\cdot\n",
    "\\begin{bmatrix}\n",
    "x_{000} & x_{010} & x_{100} & x_{110} \\\\ \n",
    "x_{001} & x_{011} & x_{101} & x_{111}  \n",
    "\\end{bmatrix}\n",
    "\\equiv\n",
    "\\left( \\mathbb{I}_2 \\otimes \\mathbb{I}_2 \\otimes \\boldsymbol{M}  \\right)\n",
    "\\cdot \\boldsymbol{x}\n",
    "$$\n",
    "\n",
    "$$\n",
    "\\boldsymbol{M} \\cdot\n",
    "\\begin{bmatrix}\n",
    "x_{000} & x_{001} & x_{100} & x_{101} \\\\ \n",
    "x_{010} & x_{011} & x_{110} & x_{111}  \n",
    "\\end{bmatrix}\n",
    "\\equiv\n",
    "\\left( \\mathbb{I}_2 \\otimes \\boldsymbol{M} \\otimes \\mathbb{I}_2 \\right)\n",
    "\\cdot \\boldsymbol{x}\n",
    "$$\n",
    "\n",
    "$$\n",
    "\\boldsymbol{M} \\cdot\n",
    "\\begin{bmatrix}\n",
    "x_{000} & x_{001} & x_{010} & x_{011} \\\\ \n",
    "x_{100} & x_{101} & x_{110} & x_{111}  \n",
    "\\end{bmatrix}\n",
    "\\equiv\n",
    "\\left( \\boldsymbol{M} \\otimes \\mathbb{I}_2 \\otimes \\mathbb{I}_2 \\right)\n",
    "\\cdot \\boldsymbol{x}\n",
    "$$"
   ]
  },
  {
   "cell_type": "markdown",
   "metadata": {},
   "source": [
    "$$\n",
    "\\begin{array}{c|c}\n",
    "x_{000} & 000_2 \\\\\n",
    "x_{001} & 001_2 \\\\\n",
    "x_{010} & 010_2 \\\\\n",
    "x_{011} & 011_2 \\\\\n",
    "x_{100} & 100_2 \\\\\n",
    "x_{101} & 101_2 \\\\\n",
    "x_{110} & 110_2 \\\\\n",
    "\\underbrace{x_{111}}_{element} & \\underbrace{111_2}_{index}\n",
    "\\end{array}\n",
    "\\xrightarrow[\\text{on each index}]{\\text{swap 1st and 2nd bits}}\n",
    "\\begin{array}{c|c}\n",
    "x_{000} & 000_2 \\\\\n",
    "x_{010} & 001_2 \\\\\n",
    "x_{001} & 010_2 \\\\\n",
    "x_{011} & 011_2 \\\\\n",
    "x_{100} & 100_2 \\\\\n",
    "x_{110} & 101_2 \\\\\n",
    "x_{101} & 110_2 \\\\\n",
    "x_{111} & 111_2\n",
    "\\end{array}\n",
    "\\xrightarrow[\\text{on each index}]{\\text{swap 1st and 3rd bits}}\n",
    "\\begin{array}{c|c}\n",
    "x_{000} & 000_2 \\\\\n",
    "x_{100} & 001_2 \\\\\n",
    "x_{001} & 010_2 \\\\\n",
    "x_{101} & 011_2 \\\\\n",
    "x_{010} & 100_2 \\\\\n",
    "x_{110} & 101_2 \\\\\n",
    "x_{011} & 110_2 \\\\\n",
    "x_{111} & 111_2\n",
    "\\end{array}\n",
    "$$"
   ]
  },
  {
   "cell_type": "code",
   "execution_count": 2,
   "metadata": {},
   "outputs": [
    {
     "data": {
      "text/plain": [
       "8×3 Matrix{String}:\n",
       " \"000\"  \"000\"  \"000\"\n",
       " \"001\"  \"010\"  \"100\"\n",
       " \"010\"  \"001\"  \"001\"\n",
       " \"011\"  \"011\"  \"101\"\n",
       " \"100\"  \"100\"  \"010\"\n",
       " \"101\"  \"110\"  \"110\"\n",
       " \"110\"  \"101\"  \"011\"\n",
       " \"111\"  \"111\"  \"111\""
      ]
     },
     "metadata": {},
     "output_type": "display_data"
    }
   ],
   "source": [
    "fst_indices = string.(0:7; base=2, pad=3)\n",
    "fst_reorder = bitswap0.(1, 0:7)\n",
    "snd_indices = fst_indices[fst_reorder .+ 1]\n",
    "snd_reorder = bitswap0.(2, 0:7)\n",
    "trd_indices = snd_indices[snd_reorder .+ 1]\n",
    "\n",
    "[fst_indices snd_indices trd_indices]"
   ]
  },
  {
   "cell_type": "code",
   "execution_count": 3,
   "metadata": {},
   "outputs": [
    {
     "data": {
      "text/plain": [
       "2×4 Matrix{String}:\n",
       " \"000\"  \"010\"  \"100\"  \"110\"\n",
       " \"001\"  \"011\"  \"101\"  \"111\""
      ]
     },
     "metadata": {},
     "output_type": "display_data"
    },
    {
     "data": {
      "text/plain": [
       "2×4 Matrix{String}:\n",
       " \"000\"  \"001\"  \"100\"  \"101\"\n",
       " \"010\"  \"011\"  \"110\"  \"111\""
      ]
     },
     "metadata": {},
     "output_type": "display_data"
    },
    {
     "data": {
      "text/plain": [
       "2×4 Matrix{String}:\n",
       " \"000\"  \"001\"  \"010\"  \"011\"\n",
       " \"100\"  \"101\"  \"110\"  \"111\""
      ]
     },
     "metadata": {},
     "output_type": "display_data"
    }
   ],
   "source": [
    "reshape(fst_indices, 2,:) |> display\n",
    "reshape(snd_indices, 2,:) |> display\n",
    "reshape(trd_indices, 2,:)"
   ]
  },
  {
   "cell_type": "code",
   "execution_count": 4,
   "metadata": {},
   "outputs": [
    {
     "data": {
      "text/plain": [
       "\u001b[32m\u001b[1mTest Passed\u001b[22m\u001b[39m"
      ]
     },
     "metadata": {},
     "output_type": "display_data"
    }
   ],
   "source": [
    "# Vectorizing by row instead of columun recovers the original order.\n",
    "# Using `permutedims` instead of `transpose` since the elements are strings.\n",
    "@test (reshape(trd_indices, 2,:) |> permutedims |> vec) == fst_indices"
   ]
  },
  {
   "cell_type": "code",
   "execution_count": 5,
   "metadata": {},
   "outputs": [
    {
     "data": {
      "text/plain": [
       "\u001b[32m\u001b[1mTest Passed\u001b[22m\u001b[39m"
      ]
     },
     "metadata": {},
     "output_type": "display_data"
    }
   ],
   "source": [
    "# Number of indices.\n",
    "n = 3\n",
    "\n",
    "# Simulate vector input.\n",
    "v = rand(Float32, 2^n)\n",
    "\n",
    "# 2×2 matrices\n",
    "m1 = rand(Float32, 2, 2)\n",
    "m3 = rand(Float32, 2, 2)\n",
    "m2 = rand(Float32, 2, 2)\n",
    "\n",
    "# Using Kronenker product\n",
    "with_kron = kron(m3, m2, m1) * v \n",
    "\n",
    "# Using Reshape-Reorder.\n",
    "fst_reorder = bitswap0.(1, 0:7)\n",
    "snd_reorder = bitswap0.(2, 0:7)\n",
    "\n",
    "acc = reshape(v, 2,:)\n",
    "acc .= m1 * acc\n",
    "acc .= reshape(acc[fst_reorder .+ 1], 2,:)\n",
    "acc .= m2 * acc\n",
    "acc .= reshape(acc[snd_reorder .+ 1], 2,:)\n",
    "acc .= m3 * acc\n",
    "\n",
    "with_reshape_reorder = acc |> transpose |> vec \n",
    "\n",
    "@test with_kron ≈ with_reshape_reorder"
   ]
  },
  {
   "cell_type": "code",
   "execution_count": 6,
   "metadata": {},
   "outputs": [],
   "source": [
    "# Number of indices.\n",
    "N = 15\n",
    "\n",
    "# Simulate random input.\n",
    "x = rand(Float32, 2^N)\n",
    "\n",
    "# For simplicity, let's use a single 2×2 matrix.\n",
    "m = rand(Float32, 2, 2);"
   ]
  },
  {
   "cell_type": "code",
   "execution_count": 7,
   "metadata": {},
   "outputs": [
    {
     "name": "stdout",
     "output_type": "stream",
     "text": [
      "  2.019879 seconds (55.98 k allocations: 5.336 GiB, 0.74% gc time, 1.50% compilation time)\n"
     ]
    }
   ],
   "source": [
    "# Using Kronecker product.\n",
    "@time res1 = kron(fill(m, N)...) * x;"
   ]
  },
  {
   "cell_type": "code",
   "execution_count": 8,
   "metadata": {},
   "outputs": [
    {
     "name": "stdout",
     "output_type": "stream",
     "text": [
      "  0.002695 seconds (157 allocations: 7.754 MiB)\n"
     ]
    }
   ],
   "source": [
    "# Using reshape.\n",
    "@time res2 = multiply(m, x);"
   ]
  },
  {
   "cell_type": "code",
   "execution_count": 9,
   "metadata": {},
   "outputs": [
    {
     "data": {
      "text/plain": [
       "\u001b[32m\u001b[1mTest Passed\u001b[22m\u001b[39m"
      ]
     },
     "metadata": {},
     "output_type": "display_data"
    }
   ],
   "source": [
    "@test res1 ≈ res2"
   ]
  }
 ],
 "metadata": {
  "kernelspec": {
   "display_name": "Julia 1.11.3",
   "language": "julia",
   "name": "julia-1.11"
  },
  "language_info": {
   "file_extension": ".jl",
   "mimetype": "application/julia",
   "name": "julia",
   "version": "1.11.3"
  }
 },
 "nbformat": 4,
 "nbformat_minor": 2
}
